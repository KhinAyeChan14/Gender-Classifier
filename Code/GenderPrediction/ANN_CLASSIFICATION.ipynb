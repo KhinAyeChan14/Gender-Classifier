{
 "cells": [
  {
   "cell_type": "code",
   "execution_count": 1,
   "metadata": {},
   "outputs": [
    {
     "name": "stderr",
     "output_type": "stream",
     "text": [
      "Using TensorFlow backend.\n"
     ]
    }
   ],
   "source": [
    "import warnings\n",
    "warnings.filterwarnings('ignore')\n",
    "import numpy as np\n",
    "import matplotlib.pyplot as plt\n",
    "import pandas as pd\n",
    "from sklearn.preprocessing import LabelEncoder\n",
    "from sklearn import preprocessing\n",
    "from sklearn.model_selection import train_test_split\n",
    "import keras\n",
    "from keras.models import Sequential\n",
    "from keras.layers import Dense\n",
    "from keras.callbacks import History\n",
    "from keras.utils import plot_model\n",
    "from keras.optimizers import SGD\n",
    "from sklearn import metrics\n",
    "from sklearn.metrics import accuracy_score, classification_report, confusion_matrix\n",
    "import pandas as pd"
   ]
  },
  {
   "cell_type": "code",
   "execution_count": 2,
   "metadata": {},
   "outputs": [],
   "source": [
    "def ANN(value):\n",
    "        dataset=pd.read_csv(\"FeaturesDataset.csv\")\n",
    "        x=dataset.iloc[:,0:12].values\n",
    "        y=dataset.iloc[:,12].values\n",
    "        labelencoder = LabelEncoder()\n",
    "        y = labelencoder.fit_transform(y)\n",
    "        min_max_scaler = preprocessing.MinMaxScaler()\n",
    "        X_scale = min_max_scaler.fit_transform(x)\n",
    "        X_train, X_test, y_train, y_test=train_test_split(X_scale,y, test_size=value,random_state=None)\n",
    "        \n",
    "        model = Sequential([Dense(120, activation='relu', input_shape=(12,)),Dense(120, activation='relu'),\n",
    "                            Dense(1, activation='sigmoid'),])\n",
    "        model.compile(optimizer='sgd',loss='binary_crossentropy',metrics=['accuracy'])\n",
    "        model.fit(X_train, y_train,batch_size=20, epochs=500)\n",
    "        \n",
    "        trainPercent= model.evaluate(X_train,y_train)\n",
    "        print(trainPercent)\n",
    "        train=trainPercent[1]*100\n",
    "        train=float(train)\n",
    "        train=round(train,0)\n",
    "        train=int(train)\n",
    "        \n",
    "        y_pred_class = model.predict(X_test)\n",
    "        y_pred_class= [ 1 if y>=0.5 else 0 for y in y_pred_class]\n",
    "        testPercent=metrics.accuracy_score(y_test, y_pred_class)\n",
    "        test=testPercent*100\n",
    "        test=float(test)\n",
    "        test=round(test,0)\n",
    "        test=int(test)\n",
    "        print(test)\n",
    "        \n",
    "        y_test= np.array(y_test)\n",
    "        y_pred_class= np.array(y_pred_class)\n",
    "        confusion = pd.crosstab(y_test,y_pred_class, rownames=['Actual'], colnames=['Predicted'],margins=True)\n",
    "        \n",
    "        report=metrics.classification_report(y_test, y_pred_class,target_names=['female', 'male'])\n",
    "        error=100-test\n",
    "        return train,test,confusion,report,error"
   ]
  },
  {
   "cell_type": "code",
   "execution_count": null,
   "metadata": {},
   "outputs": [],
   "source": []
  },
  {
   "cell_type": "code",
   "execution_count": null,
   "metadata": {},
   "outputs": [],
   "source": []
  }
 ],
 "metadata": {
  "kernelspec": {
   "display_name": "Python 3",
   "language": "python",
   "name": "python3"
  },
  "language_info": {
   "codemirror_mode": {
    "name": "ipython",
    "version": 3
   },
   "file_extension": ".py",
   "mimetype": "text/x-python",
   "name": "python",
   "nbconvert_exporter": "python",
   "pygments_lexer": "ipython3",
   "version": "3.6.5"
  }
 },
 "nbformat": 4,
 "nbformat_minor": 2
}
