{
 "cells": [
  {
   "cell_type": "code",
   "execution_count": 1,
   "metadata": {},
   "outputs": [],
   "source": [
    "from pydub import AudioSegment\n",
    "import os"
   ]
  },
  {
   "cell_type": "code",
   "execution_count": 2,
   "metadata": {},
   "outputs": [],
   "source": [
    "directory1=os.listdir(\"/home/khin/DATA/finalBoy\")\n",
    "directory2=os.listdir(\"/home/khin/DATA/finalGirl\")"
   ]
  },
  {
   "cell_type": "code",
   "execution_count": 3,
   "metadata": {},
   "outputs": [],
   "source": [
    "startTime = 0\n",
    "for wav_file in directory1 :\n",
    "    # Time to miliseconds\n",
    "    endSec = 3.5\n",
    "    endTime = endSec*1000\n",
    "    # Opening file and extracting segment\n",
    "    sound1 = AudioSegment.from_file(\"/home/khin/DATA/finalBoy/\"+wav_file, format=\"wav\")\n",
    "    extract1 = sound1[startTime:endTime]\n",
    "    \n",
    "    # Saving\n",
    "    extract1.export('/home/khin/DATA/fBoy/'+wav_file, format=\"wav\")"
   ]
  },
  {
   "cell_type": "code",
   "execution_count": 4,
   "metadata": {},
   "outputs": [],
   "source": [
    "startTime = 0\n",
    "\n",
    "for wav_file in directory2 :\n",
    "    \n",
    "  # Time to miliseconds\n",
    "    endSec = 3\n",
    "    endTime = endSec*1000\n",
    "    \n",
    "    # Opening file and extracting segment\n",
    "    sound2 = AudioSegment.from_file(\"/home/khin/DATA/finalGirl/\"+wav_file, format=\"wav\")\n",
    "    extract2 = sound2[startTime:endTime]\n",
    "    \n",
    "    # Saving\n",
    "    extract2.export('/home/khin/DATA/fGirl/'+wav_file, format=\"wav\") "
   ]
  },
  {
   "cell_type": "code",
   "execution_count": 7,
   "metadata": {},
   "outputs": [],
   "source": [
    "from pydub import AudioSegment\n",
    "\n",
    "def detect_leading_silence(sound, silence_threshold=-30.0, chunk_size=5):\n",
    "    '''\n",
    "    sound is a pydub.AudioSegment\n",
    "    silence_threshold in dB\n",
    "    chunk_size in ms\n",
    "\n",
    "    iterate over chunks until you find the first one with sound\n",
    "    '''\n",
    "    trim_ms = 0 # ms\n",
    "\n",
    "    assert chunk_size > 0 # to avoid infinite loop\n",
    "    while sound[trim_ms:trim_ms+chunk_size].dBFS < silence_threshold and trim_ms < len(sound):\n",
    "        trim_ms += chunk_size\n",
    "\n",
    "    return trim_ms\n"
   ]
  },
  {
   "cell_type": "code",
   "execution_count": 8,
   "metadata": {},
   "outputs": [],
   "source": [
    "directory3=os.listdir(\"/home/khin/DATA/fBoy\")\n",
    "directory4=os.listdir(\"/home/khin/DATA/fGirl\")"
   ]
  },
  {
   "cell_type": "code",
   "execution_count": 9,
   "metadata": {},
   "outputs": [],
   "source": [
    "for wav_file in directory3 :\n",
    "    sound3 = AudioSegment.from_file(\"/home/khin/DATA/fBoy/\"+wav_file, format=\"wav\")\n",
    "    start_trim = detect_leading_silence(sound3)\n",
    "    end_trim = detect_leading_silence(sound3.reverse())\n",
    "\n",
    "    duration = len(sound3)    \n",
    "    trimmed_sound = sound3[start_trim:duration-end_trim]\n",
    "    trimmed_sound.export('/home/khin/DATA/fBoy/'+wav_file, format=\"wav\") "
   ]
  },
  {
   "cell_type": "code",
   "execution_count": 10,
   "metadata": {},
   "outputs": [],
   "source": [
    "for wav_file in directory4 :\n",
    "    sound4 = AudioSegment.from_file(\"/home/khin/DATA/fGirl/\"+wav_file, format=\"wav\")\n",
    "    start_trim = detect_leading_silence(sound4)\n",
    "    end_trim = detect_leading_silence(sound4.reverse())\n",
    "\n",
    "    duration = len(sound4)    \n",
    "    trimmed_sound = sound4[start_trim:duration-end_trim]\n",
    "    trimmed_sound.export('/home/khin/DATA/fGirl/'+wav_file, format=\"wav\") "
   ]
  },
  {
   "cell_type": "code",
   "execution_count": null,
   "metadata": {},
   "outputs": [],
   "source": []
  }
 ],
 "metadata": {
  "kernelspec": {
   "display_name": "Python 3",
   "language": "python",
   "name": "python3"
  },
  "language_info": {
   "codemirror_mode": {
    "name": "ipython",
    "version": 3
   },
   "file_extension": ".py",
   "mimetype": "text/x-python",
   "name": "python",
   "nbconvert_exporter": "python",
   "pygments_lexer": "ipython3",
   "version": "3.6.5"
  }
 },
 "nbformat": 4,
 "nbformat_minor": 2
}
