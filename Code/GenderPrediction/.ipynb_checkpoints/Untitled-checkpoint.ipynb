{
 "cells": [
  {
   "cell_type": "code",
   "execution_count": 1,
   "metadata": {},
   "outputs": [],
   "source": [
    "import tkinter as tk\n",
    "from tkinter import ttk\n",
    "from tkinter import *\n",
    "\n",
    "scores = tk.Tk() \n",
    "#xt=\"Hilabel = tk.Label(scores, tegh Scores\", font=(\"Arial\",30)).grid(row=0, columnspan=3)\n",
    "# create Treeview with 3 columns\n",
    "'''cols = ( 'Classifiers', 'Output')\n",
    "listBox = ttk.Treeview(scores, columns=cols, show='headings')\n",
    "# set column headings\n",
    "for col in cols:\n",
    "    listBox.heading(col, text=col)    \n",
    "  \n",
    "gender1='female'    \n",
    "listBox.grid(row=1, column=0, columnspan=2)\n",
    "tempList = [['Random Forest', gender1], ['Artificial Neural Network',gender1], ['Logistic Regression', gender1],\n",
    "            ['Support Vector Machine', gender1],['Naive Bayes Classifier',gender1]]\n",
    "tempList.sort(key=lambda e: e[1], reverse=True)\n",
    "\n",
    "for i,(name, score) in enumerate(tempList, start=1):\n",
    "    listBox.insert( \"\",\"end\",values= (name, score))'''\n",
    "\n",
    "listBox= Text(scores,width = 40)\n",
    "listBox.grid(row = 1,column= 0, columnspan = 2)\n",
    "\n",
    "tempList= [['Jim', '0.33'], ['Dave', '0.67'], ['James', '0.67'], ['Eden', '0.5']]\n",
    "\n",
    "tempList.sort(key=lambda e: e[1], reverse=True)\n",
    "listBox.insert(END, \"Position | Name      \\t\\t |Score\\n\")\n",
    "listBox.insert(END,\"-----------------------------------\")\n",
    "listBox.insert(END,\"\\n\")\n",
    "\n",
    "for i in range(len(tempList)):\n",
    "    listBox.insert(END,(i+1))\n",
    "    listBox.insert(END,\"\\t |\")\n",
    "    listBox.insert(END,tempList[i][0])\n",
    "    listBox.insert(END,\"\\t \\t|\")\n",
    "    listBox.insert(END,tempList[i][1])\n",
    "    listBox.insert(END,\"\\n\")\n",
    "\n",
    "\n",
    "#showScores = tk.Button(scores, text=\"Show scores\", width=15, command=show).grid(row=4, column=0)\n",
    "#closeButton = tk.Button(scores, text=\"Close\", width=15, command=exit).grid(row=4, column=1)\n",
    "\n",
    "scores.mainloop()"
   ]
  },
  {
   "cell_type": "code",
   "execution_count": null,
   "metadata": {},
   "outputs": [],
   "source": []
  }
 ],
 "metadata": {
  "kernelspec": {
   "display_name": "Python 3",
   "language": "python",
   "name": "python3"
  },
  "language_info": {
   "codemirror_mode": {
    "name": "ipython",
    "version": 3
   },
   "file_extension": ".py",
   "mimetype": "text/x-python",
   "name": "python",
   "nbconvert_exporter": "python",
   "pygments_lexer": "ipython3",
   "version": "3.6.5"
  }
 },
 "nbformat": 4,
 "nbformat_minor": 2
}
