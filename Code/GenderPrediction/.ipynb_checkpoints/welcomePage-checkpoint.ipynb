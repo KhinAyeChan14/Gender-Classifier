{
 "cells": [
  {
   "cell_type": "code",
   "execution_count": null,
   "metadata": {},
   "outputs": [],
   "source": [
    "from tkinter import *\n",
    "import sys\n",
    "import math\n",
    "import tkinter as tk\n",
    "from tkinter import ttk\n",
    "import pandas as pd\n",
    "import pylab as pl\n",
    "from tkinter import filedialog\n",
    "from pydub import AudioSegment\n",
    "from pydub.playback import play\n",
    "import pygame\n",
    "import wave"
   ]
  },
  {
   "cell_type": "code",
   "execution_count": 7,
   "metadata": {},
   "outputs": [],
   "source": [
    "import tkinter as tk\n",
    "from tkinter import ttk\n",
    "from tkinter import *\n",
    "import sys\n",
    "import os\n",
    "class homePage(tk.Tk):\n",
    "    def __init__(self):\n",
    "        tk.Tk.__init__(self)\n",
    "        self._frame = None\n",
    "        self.switch_frame(StartPage)\n",
    "\n",
    "    def switch_frame(self, frame_class):\n",
    "        \"\"\"Destroys current frame and replaces it with a new one.\"\"\"\n",
    "        new_frame = frame_class(self)\n",
    "        if self._frame is not None:\n",
    "            self._frame.destroy()\n",
    "        self._frame = new_frame\n",
    "        self._frame.pack()\n"
   ]
  },
  {
   "cell_type": "code",
   "execution_count": 8,
   "metadata": {},
   "outputs": [],
   "source": [
    "class StartPage(tk.Frame):\n",
    "    def __init__(self, master):\n",
    "        tk.Frame.__init__(self, master)\n",
    "        tk.Label(self, text=\"This is the start page\").pack(side=\"top\", fill=\"x\", pady=10)\n",
    "        tk.Button(self, text=\"Open page one\",\n",
    "                  command=lambda: master.switch_frame(PageOne)).pack()\n",
    "        tk.Button(self, text=\"Open page two\",\n",
    "                  command=lambda: master.switch_frame(PageTwo)).pack()"
   ]
  },
  {
   "cell_type": "code",
   "execution_count": 11,
   "metadata": {},
   "outputs": [
    {
     "ename": "SyntaxError",
     "evalue": "import * only allowed at module level (<ipython-input-11-427508f49b0a>, line 1)",
     "output_type": "error",
     "traceback": [
      "\u001b[0;36m  File \u001b[0;32m\"<ipython-input-11-427508f49b0a>\"\u001b[0;36m, line \u001b[0;32m1\u001b[0m\n\u001b[0;31m    class PageOne():\u001b[0m\n\u001b[0m                    ^\u001b[0m\n\u001b[0;31mSyntaxError\u001b[0m\u001b[0;31m:\u001b[0m import * only allowed at module level\n"
     ]
    }
   ],
   "source": [
    "class PageOne():\n",
    "    def __init__(self):\n",
    "        pass\n",
    "    \n",
    "    \n",
    "    \n",
    "    mainFrame= tk.Tk()\n",
    "    mainFrame.geometry(\"800x500\")\n",
    "    mainFrame.title(\"Welcome to the System!!!\")\n",
    "\n",
    "    viewerPane = Frame(mainFrame)\n",
    "    viewerPane.grid(row=0,column=0,rowspan=10,columnspan=4, sticky=\"NESW\")\n",
    "    viewerPane.grid_columnconfigure(0, weight=1)\n",
    "    viewerPane.grid_rowconfigure(0, weight=1)\n",
    "\n",
    "    actionPane = Frame(mainFrame)\n",
    "    actionPane.grid(row=11,column=0,rowspan=30,columnspan=4, sticky=\"NESW\")\n",
    "\n",
    "    myLabel1 = Label(viewerPane, text=\"Split the DataSet!\",fg=\"blue\",height=3,width=55,font=('Timesnewsroman', 10))\n",
    "    myLabel2 = Label(viewerPane, text=\"Training %\",fg=\"blue\",height=3,width=50,font=('Timesnewsroman', 10))\n",
    "    myLabel1.grid(row=1, column=0)\n",
    "    myLabel2.grid(row=1, column=1)\n",
    "\n",
    "    entryTrain = tk.Entry(viewerPane, width=10)\n",
    "    entryTrain.grid(column=1, row=1, padx=10, pady=5, sticky=tk.E)\n",
    "\n",
    "    myLabel3 = Label(viewerPane, text = \"Choose Classification Model!\",fg=\"blue\",height=3,width=55,font=('Timesnewsroman', 10))\n",
    "    myLabel3.grid(row=3,column=0,)\n",
    "\n",
    "    combostyle = ttk.Style()\n",
    "    comboModel = ttk.Combobox(viewerPane, values=[\n",
    "                                    \"Artificial Neural Network\", \n",
    "                                    \"Support Vector Machine\",\n",
    "                                    \"Random Forest\",\n",
    "                                    \"Logistic Regression\",\n",
    "                                    \"Naive Bayes Classifier\"],width=25,height=10,font=('Timesnewsroman', 10))\n",
    "    comboModel.grid(row=3,column=1,padx=10, pady=10 )\n",
    "    comboModel.current(0)\n",
    "\n",
    "    button=Button(viewerPane, text=\"OK\",fg='blue',command=lambda: result())\n",
    "    button.grid(column=0, row=5,columnspan=2,padx=10, pady=10)\n",
    "\n",
    "    ttk.Separator(viewerPane, orient=HORIZONTAL).grid(column=0, row=10, columnspan=45, sticky='ew')\n"
   ]
  },
  {
   "cell_type": "code",
   "execution_count": 10,
   "metadata": {},
   "outputs": [],
   "source": [
    "class PageTwo(tk.Frame):\n",
    "    def __init__(self, master):\n",
    "        tk.Frame.__init__(self, master)\n",
    "        tk.Label(self, text=\"This is page two\").pack(side=\"top\", fill=\"x\", pady=10)\n",
    "        tk.Button(self, text=\"Return to start page\",\n",
    "                  command=lambda: master.switch_frame(StartPage)).pack()"
   ]
  },
  {
   "cell_type": "code",
   "execution_count": 5,
   "metadata": {},
   "outputs": [
    {
     "name": "stderr",
     "output_type": "stream",
     "text": [
      "Exception in Tkinter callback\n",
      "Traceback (most recent call last):\n",
      "  File \"/home/khin/anaconda3/lib/python3.6/tkinter/__init__.py\", line 1702, in __call__\n",
      "    return self.func(*args)\n",
      "  File \"<ipython-input-2-b16d820182ea>\", line 6, in <lambda>\n",
      "    command=lambda: master.switch_frame(PageOne)).pack()\n",
      "NameError: name 'PageOne' is not defined\n"
     ]
    }
   ],
   "source": [
    "if __name__ == \"__main__\":\n",
    "    app = homePage()\n",
    "    app.mainloop()"
   ]
  },
  {
   "cell_type": "code",
   "execution_count": null,
   "metadata": {},
   "outputs": [],
   "source": []
  },
  {
   "cell_type": "code",
   "execution_count": null,
   "metadata": {},
   "outputs": [],
   "source": []
  }
 ],
 "metadata": {
  "kernelspec": {
   "display_name": "Python 3",
   "language": "python",
   "name": "python3"
  },
  "language_info": {
   "codemirror_mode": {
    "name": "ipython",
    "version": 3
   },
   "file_extension": ".py",
   "mimetype": "text/x-python",
   "name": "python",
   "nbconvert_exporter": "python",
   "pygments_lexer": "ipython3",
   "version": "3.6.5"
  }
 },
 "nbformat": 4,
 "nbformat_minor": 2
}
