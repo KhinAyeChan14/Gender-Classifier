{
 "cells": [
  {
   "cell_type": "code",
   "execution_count": 1,
   "metadata": {},
   "outputs": [],
   "source": [
    "import warnings\n",
    "warnings.filterwarnings('ignore')"
   ]
  },
  {
   "cell_type": "code",
   "execution_count": 2,
   "metadata": {},
   "outputs": [],
   "source": [
    "from sklearn import metrics\n",
    "from sklearn.ensemble import RandomForestClassifier\n",
    "from sklearn.linear_model import LogisticRegression\n",
    "from sklearn.naive_bayes import GaussianNB\n",
    "from sklearn import svm\n",
    "from ipynb.fs.full.PROCESSING_DATASET import splitDataset\n",
    "from sklearn.metrics import accuracy_score, classification_report, confusion_matrix\n",
    "from sklearn.model_selection import train_test_split\n",
    "from sklearn import preprocessing, neighbors\n",
    "import pandas as pd"
   ]
  },
  {
   "cell_type": "code",
   "execution_count": 2,
   "metadata": {},
   "outputs": [],
   "source": [
    "def RF(value):\n",
    "        \n",
    "        data=splitDataset()\n",
    "        x=data.loadFeatures()\n",
    "        y=data.loadLabels()\n",
    "        x_train,x_test,y_train,y_test=train_test_split(x,y,test_size=0.3,random_state=None)\n",
    "        RF= RandomForestClassifier( )\n",
    "        RF.fit(x_train,y_train.ravel())\n",
    "        trainPercent=RF.score(x_train,y_train)\n",
    "        trainPercent=(round(trainPercent,2))*100\n",
    "        trainPercent=int(trainPercent)\n",
    "        y_pred_class = RF.predict(x_test)\n",
    "        testPercent=metrics.accuracy_score(y_test, y_pred_class)\n",
    "        testPercent=(round(testPercent,2))*100\n",
    "        testPercent=int(testPercent)\n",
    "        confusion=pd.crosstab(y_test,y_pred_class, rownames=['Actual'], colnames=['Predicted'],margins=True)\n",
    "        #confusion = metrics.confusion_matrix(y_test, y_pred_class)\n",
    "        report=classification_report(y_test, y_pred_class,target_names=['female', 'male'])\n",
    "        errorRate=100-testPercent\n",
    "        return trainPercent,testPercent,confusion,report,errorRate"
   ]
  },
  {
   "cell_type": "code",
   "execution_count": 4,
   "metadata": {},
   "outputs": [],
   "source": [
    "def LR(value):\n",
    "    \n",
    "        data=splitDataset()\n",
    "        x=data.loadFeatures()\n",
    "        y=data.loadLabels()\n",
    "        x_train,x_test,y_train,y_test=train_test_split(x,y,test_size=value,random_state=None)\n",
    "        logreg = LogisticRegression()\n",
    "        logreg.fit(x_train, y_train.ravel())\n",
    "        trainPercent=logreg.score(x_train,y_train)\n",
    "        trainPercent=(round(trainPercent,2))*100\n",
    "        trainPercent=int(trainPercent)\n",
    "        y_pred_class = logreg.predict(x_test)\n",
    "        testPercent=metrics.accuracy_score(y_test, y_pred_class)\n",
    "        testPercent=(round(testPercent,2))*100\n",
    "        testPercent=int(testPercent)\n",
    "        confusion = pd.crosstab(y_test,y_pred_class, rownames=['Actual'], colnames=['Predicted'],margins=True)\n",
    "        report=classification_report(y_test, y_pred_class,target_names=['female', 'male'])\n",
    "        errorRate=100-testPercent\n",
    "        return trainPercent,testPercent,confusion,report,errorRate"
   ]
  },
  {
   "cell_type": "code",
   "execution_count": 5,
   "metadata": {},
   "outputs": [],
   "source": [
    "def  GNB(value):\n",
    "        \n",
    "        data=splitDataset()\n",
    "        x=data.loadFeatures()\n",
    "        y=data.loadLabels()\n",
    "        x_train,x_test,y_train,y_test=train_test_split(x,y,test_size=value,random_state=None)\n",
    "        GNB = GaussianNB()\n",
    "        GNB.fit(x_train, y_train.ravel())\n",
    "        trainPercent=GNB.score(x_train,y_train)\n",
    "        trainPercent=(round(trainPercent,2))*100\n",
    "        trainPercent=int(trainPercent)\n",
    "        y_pred_class = GNB.predict(x_test)\n",
    "        testPercent=metrics.accuracy_score(y_test, y_pred_class)\n",
    "        testPercent=(round(testPercent,2))*100\n",
    "        testPercent=int(testPercent)\n",
    "        confusion = pd.crosstab(y_test,y_pred_class, rownames=['Actual'], colnames=['Predicted'],margins=True)\n",
    "        report=classification_report(y_test, y_pred_class,target_names=['female', 'male'])\n",
    "        errorRate=100-testPercent\n",
    "        return trainPercent,testPercent,confusion,report,errorRate"
   ]
  },
  {
   "cell_type": "code",
   "execution_count": 6,
   "metadata": {},
   "outputs": [],
   "source": [
    "def SVM(value):\n",
    "    \n",
    "        data=splitDataset()\n",
    "        x=data.loadFeatures()\n",
    "        y=data.loadLabels()\n",
    "        x_train,x_test,y_train,y_test=train_test_split(x,y,test_size=value,random_state=None)\n",
    "        SVM= svm.SVC(kernel='linear') # Linear Kernel\n",
    "        SVM.fit(x_train, y_train.ravel())\n",
    "        trainPercent=SVM.score(x_train,y_train)\n",
    "        trainPercent=(round(trainPercent,2))*100\n",
    "        trainPercent=int(trainPercent)\n",
    "        y_pred_class = SVM.predict(x_test)\n",
    "        testPercent=metrics.accuracy_score(y_test, y_pred_class)\n",
    "        testPercent=(round(testPercent,2))*100\n",
    "        testPercent=int(testPercent)\n",
    "        confusion = pd.crosstab(y_test,y_pred_class, rownames=['Actual'], colnames=['Predicted'],margins=True)\n",
    "        report=classification_report(y_test, y_pred_class,target_names=['female', 'male'])\n",
    "        errorRate=100-testPercent\n",
    "        return trainPercent,testPercent,confusion,report,errorRate"
   ]
  },
  {
   "cell_type": "code",
   "execution_count": null,
   "metadata": {},
   "outputs": [],
   "source": []
  },
  {
   "cell_type": "code",
   "execution_count": null,
   "metadata": {},
   "outputs": [],
   "source": []
  },
  {
   "cell_type": "code",
   "execution_count": null,
   "metadata": {},
   "outputs": [],
   "source": []
  }
 ],
 "metadata": {
  "kernelspec": {
   "display_name": "Python 3",
   "language": "python",
   "name": "python3"
  },
  "language_info": {
   "codemirror_mode": {
    "name": "ipython",
    "version": 3
   },
   "file_extension": ".py",
   "mimetype": "text/x-python",
   "name": "python",
   "nbconvert_exporter": "python",
   "pygments_lexer": "ipython3",
   "version": "3.6.5"
  }
 },
 "nbformat": 4,
 "nbformat_minor": 2
}
