{
 "cells": [
  {
   "cell_type": "code",
   "execution_count": 10,
   "metadata": {},
   "outputs": [],
   "source": [
    "#calculateLPCcoefficientsfromsoundfile\n",
    "from __future__ import division\n",
    "import numpy as np"
   ]
  },
  {
   "cell_type": "code",
   "execution_count": 12,
   "metadata": {},
   "outputs": [],
   "source": [
    "def autocorr(x):\n",
    "    n=len(x)\n",
    "    variance=np.var(x)\n",
    "    x=x-np.mean(x)\n",
    "    #nnumbersfromlastindex\n",
    "    r=np.correlate(x,x,mode='full')[-n:]\n",
    "    result=r/(variance*(np.arange(n,0,-1)))\n",
    "    return result"
   ]
  },
  {
   "cell_type": "code",
   "execution_count": 13,
   "metadata": {},
   "outputs": [],
   "source": [
    "def createSymmetricMatrix(acf,p):\n",
    "    R=np.empty((p,p))\n",
    "    for i in range(p):\n",
    "        for j in range(p):\n",
    "            R[i,j]=acf[np.abs(i-j)]\n",
    "            return R"
   ]
  },
  {
   "cell_type": "code",
   "execution_count": 19,
   "metadata": {},
   "outputs": [],
   "source": [
    "def lpc(s,fs,p):\n",
    "    #divideintosegmentsof25mswithoverlapof10ms\n",
    "    nSamples=np.int32(0.025*fs)\n",
    "    overlap=np.int32(0.01*fs)\n",
    "    nFrames=np.int32(np.ceil(len(s)/(nSamples-overlap)))\n",
    "    #zeropaddingtomakesignallengthlongenoughtohavenFrames\n",
    "    padding=((nSamples-overlap)*nFrames)-len(s)\n",
    "    if padding>0:\n",
    "        signal=np.append(s,np.zeros(padding))\n",
    "    else:\n",
    "        signal=s\n",
    "    segment=np.empty((nSamples,nFrames))\n",
    "    start=0\n",
    "    for i in range(nFrames):\n",
    "        segment[:,i]=signal[start:start+nSamples]\n",
    "        start=(nSamples-overlap)*i\n",
    "        #calculateLPCwithYule-Walk\n",
    "    lpc_coeffs=np.empty((p,nFrames))\n",
    "    for i in range(nFrames):\n",
    "        acf=autocorr(segment[:,i])\n",
    "        r=-acf[1:p+1].T\n",
    "        R=createSymmetricMatrix(acf,p)\n",
    "        lpc_coeffs[:,i]=np.dot(np.linalg.inv(R),r)\n",
    "        pc_coeffs[:,i]=lpc_coeffs[:,i]/np.max(np.abs(lpc_coeffs[:,i]))\n",
    "    return lpc_coeffs"
   ]
  },
  {
   "cell_type": "code",
   "execution_count": null,
   "metadata": {},
   "outputs": [],
   "source": []
  },
  {
   "cell_type": "code",
   "execution_count": null,
   "metadata": {},
   "outputs": [],
   "source": []
  }
 ],
 "metadata": {
  "kernelspec": {
   "display_name": "Python 3",
   "language": "python",
   "name": "python3"
  },
  "language_info": {
   "codemirror_mode": {
    "name": "ipython",
    "version": 3
   },
   "file_extension": ".py",
   "mimetype": "text/x-python",
   "name": "python",
   "nbconvert_exporter": "python",
   "pygments_lexer": "ipython3",
   "version": "3.6.5"
  }
 },
 "nbformat": 4,
 "nbformat_minor": 2
}
