{
 "cells": [
  {
   "cell_type": "code",
   "execution_count": 1,
   "metadata": {},
   "outputs": [],
   "source": [
    "import numpy as np\n",
    "import matplotlib.pyplot as plt\n",
    "import pandas as pd"
   ]
  },
  {
   "cell_type": "code",
   "execution_count": 24,
   "metadata": {},
   "outputs": [],
   "source": [
    "dataset=pd.read_csv(\"features.csv\")\n",
    "#dataset=df.values()\n",
    "#print(df.values())\n",
    "x=dataset.iloc[:,0:12].values\n",
    "y=dataset.iloc[:,12].values"
   ]
  },
  {
   "cell_type": "code",
   "execution_count": 25,
   "metadata": {},
   "outputs": [],
   "source": [
    "from sklearn.preprocessing import LabelEncoder\n",
    "labelencoder = LabelEncoder()\n",
    "y = labelencoder.fit_transform(y)"
   ]
  },
  {
   "cell_type": "code",
   "execution_count": 26,
   "metadata": {},
   "outputs": [
    {
     "name": "stdout",
     "output_type": "stream",
     "text": [
      "[[0.56171619 0.55607397 0.73014514 ... 0.3724283  0.3534959  0.45067172]\n",
      " [0.8260658  0.27613833 0.44050092 ... 0.42035707 0.16085473 0.37493336]\n",
      " [0.73325204 0.57257888 0.49562365 ... 0.8149889  0.39466459 0.43435488]\n",
      " ...\n",
      " [0.69139228 0.49644925 0.77435401 ... 0.4455133  0.4245106  0.38214454]\n",
      " [0.47519646 0.76702718 0.27544911 ... 0.66261048 0.35720715 0.50467966]\n",
      " [0.68467288 0.44751514 0.75090055 ... 0.40447384 0.55336867 0.33722691]]\n"
     ]
    }
   ],
   "source": [
    "'''from sklearn.preprocessing import StandardScaler\n",
    "#print(x)\n",
    "x_sc = StandardScaler()\n",
    "x= x_sc.fit_transform(x)\n",
    "print(x)'''\n",
    "from sklearn import preprocessing\n",
    "min_max_scaler = preprocessing.MinMaxScaler()\n",
    "X_scale = min_max_scaler.fit_transform(x)\n",
    "print(X_scale)"
   ]
  },
  {
   "cell_type": "code",
   "execution_count": 27,
   "metadata": {},
   "outputs": [
    {
     "name": "stdout",
     "output_type": "stream",
     "text": [
      "(420, 12) (90, 12) (90, 12) (420,) (90,) (90,)\n"
     ]
    }
   ],
   "source": [
    "from sklearn.model_selection import train_test_split\n",
    "X_train, X_val_and_test, Y_train, Y_val_and_test = train_test_split(X_scale, y, test_size=0.3)\n",
    "X_val, X_test, Y_val, Y_test = train_test_split(X_val_and_test, Y_val_and_test, test_size=0.5)\n",
    "print(X_train.shape, X_val.shape, X_test.shape, Y_train.shape, Y_val.shape, Y_test.shape)"
   ]
  },
  {
   "cell_type": "code",
   "execution_count": 30,
   "metadata": {},
   "outputs": [
    {
     "name": "stderr",
     "output_type": "stream",
     "text": [
      "/home/khin/anaconda3/lib/python3.6/site-packages/h5py/__init__.py:36: FutureWarning: Conversion of the second argument of issubdtype from `float` to `np.floating` is deprecated. In future, it will be treated as `np.float64 == np.dtype(float).type`.\n",
      "  from ._conv import register_converters as _register_converters\n",
      "Using TensorFlow backend.\n"
     ]
    }
   ],
   "source": [
    "import keras\n",
    "from keras.models import Sequential\n",
    "from keras.layers import Dense\n",
    "from keras.callbacks import History\n",
    "from keras.utils import plot_model\n",
    "from keras.optimizers import SGD"
   ]
  },
  {
   "cell_type": "code",
   "execution_count": 35,
   "metadata": {},
   "outputs": [],
   "source": [
    "model = Sequential([    Dense(32, activation='relu', input_shape=(12,)),    Dense(32, activation='relu'),    Dense(1, activation='sigmoid'),])"
   ]
  },
  {
   "cell_type": "code",
   "execution_count": 36,
   "metadata": {},
   "outputs": [],
   "source": [
    "model.compile(optimizer='sgd',              loss='binary_crossentropy',              metrics=['accuracy'])"
   ]
  },
  {
   "cell_type": "code",
   "execution_count": 37,
   "metadata": {},
   "outputs": [
    {
     "name": "stdout",
     "output_type": "stream",
     "text": [
      "Train on 420 samples, validate on 90 samples\n",
      "Epoch 1/100\n",
      "420/420 [==============================] - 2s 4ms/step - loss: 0.6959 - acc: 0.5119 - val_loss: 0.7093 - val_acc: 0.4333\n",
      "Epoch 2/100\n",
      "420/420 [==============================] - 0s 228us/step - loss: 0.6950 - acc: 0.5167 - val_loss: 0.7067 - val_acc: 0.4333\n",
      "Epoch 3/100\n",
      "420/420 [==============================] - 0s 198us/step - loss: 0.6940 - acc: 0.5190 - val_loss: 0.7053 - val_acc: 0.4333\n",
      "Epoch 4/100\n",
      "420/420 [==============================] - 0s 186us/step - loss: 0.6931 - acc: 0.5262 - val_loss: 0.7028 - val_acc: 0.4333\n",
      "Epoch 5/100\n",
      "420/420 [==============================] - 0s 215us/step - loss: 0.6921 - acc: 0.5310 - val_loss: 0.7012 - val_acc: 0.4333\n",
      "Epoch 6/100\n",
      "420/420 [==============================] - 0s 211us/step - loss: 0.6912 - acc: 0.5381 - val_loss: 0.6998 - val_acc: 0.4333\n",
      "Epoch 7/100\n",
      "420/420 [==============================] - 0s 171us/step - loss: 0.6904 - acc: 0.5476 - val_loss: 0.6991 - val_acc: 0.4444\n",
      "Epoch 8/100\n",
      "420/420 [==============================] - 0s 241us/step - loss: 0.6897 - acc: 0.5476 - val_loss: 0.6982 - val_acc: 0.4444\n",
      "Epoch 9/100\n",
      "420/420 [==============================] - 0s 222us/step - loss: 0.6890 - acc: 0.5405 - val_loss: 0.6975 - val_acc: 0.4444\n",
      "Epoch 10/100\n",
      "420/420 [==============================] - 0s 249us/step - loss: 0.6882 - acc: 0.5333 - val_loss: 0.6959 - val_acc: 0.4778\n",
      "Epoch 11/100\n",
      "420/420 [==============================] - 0s 257us/step - loss: 0.6875 - acc: 0.5405 - val_loss: 0.6945 - val_acc: 0.4889\n",
      "Epoch 12/100\n",
      "420/420 [==============================] - 0s 240us/step - loss: 0.6866 - acc: 0.5571 - val_loss: 0.6932 - val_acc: 0.4889\n",
      "Epoch 13/100\n",
      "420/420 [==============================] - 0s 294us/step - loss: 0.6860 - acc: 0.5643 - val_loss: 0.6918 - val_acc: 0.4889\n",
      "Epoch 14/100\n",
      "420/420 [==============================] - 0s 243us/step - loss: 0.6852 - acc: 0.5690 - val_loss: 0.6912 - val_acc: 0.4889\n",
      "Epoch 15/100\n",
      "420/420 [==============================] - 0s 274us/step - loss: 0.6846 - acc: 0.5595 - val_loss: 0.6907 - val_acc: 0.4889\n",
      "Epoch 16/100\n",
      "420/420 [==============================] - 0s 240us/step - loss: 0.6837 - acc: 0.5571 - val_loss: 0.6890 - val_acc: 0.4889\n",
      "Epoch 17/100\n",
      "420/420 [==============================] - 0s 225us/step - loss: 0.6829 - acc: 0.5714 - val_loss: 0.6885 - val_acc: 0.4889\n",
      "Epoch 18/100\n",
      "420/420 [==============================] - 0s 241us/step - loss: 0.6822 - acc: 0.5905 - val_loss: 0.6870 - val_acc: 0.4889\n",
      "Epoch 19/100\n",
      "420/420 [==============================] - 0s 268us/step - loss: 0.6814 - acc: 0.6024 - val_loss: 0.6861 - val_acc: 0.5111\n",
      "Epoch 20/100\n",
      "420/420 [==============================] - 0s 232us/step - loss: 0.6808 - acc: 0.6119 - val_loss: 0.6852 - val_acc: 0.5111\n",
      "Epoch 21/100\n",
      "420/420 [==============================] - 0s 223us/step - loss: 0.6801 - acc: 0.6190 - val_loss: 0.6838 - val_acc: 0.5444\n",
      "Epoch 22/100\n",
      "420/420 [==============================] - 0s 218us/step - loss: 0.6795 - acc: 0.6310 - val_loss: 0.6830 - val_acc: 0.5444\n",
      "Epoch 23/100\n",
      "420/420 [==============================] - 0s 228us/step - loss: 0.6787 - acc: 0.6190 - val_loss: 0.6823 - val_acc: 0.5556\n",
      "Epoch 24/100\n",
      "420/420 [==============================] - 0s 236us/step - loss: 0.6780 - acc: 0.6214 - val_loss: 0.6814 - val_acc: 0.5556\n",
      "Epoch 25/100\n",
      "420/420 [==============================] - 0s 201us/step - loss: 0.6772 - acc: 0.6286 - val_loss: 0.6801 - val_acc: 0.6111\n",
      "Epoch 26/100\n",
      "420/420 [==============================] - 0s 306us/step - loss: 0.6765 - acc: 0.6357 - val_loss: 0.6782 - val_acc: 0.7111\n",
      "Epoch 27/100\n",
      "420/420 [==============================] - 0s 258us/step - loss: 0.6761 - acc: 0.6524 - val_loss: 0.6776 - val_acc: 0.7111\n",
      "Epoch 28/100\n",
      "420/420 [==============================] - 0s 288us/step - loss: 0.6752 - acc: 0.6452 - val_loss: 0.6759 - val_acc: 0.7333\n",
      "Epoch 29/100\n",
      "420/420 [==============================] - 0s 276us/step - loss: 0.6747 - acc: 0.6952 - val_loss: 0.6760 - val_acc: 0.7222\n",
      "Epoch 30/100\n",
      "420/420 [==============================] - 0s 268us/step - loss: 0.6739 - acc: 0.6500 - val_loss: 0.6760 - val_acc: 0.7000\n",
      "Epoch 31/100\n",
      "420/420 [==============================] - 0s 236us/step - loss: 0.6731 - acc: 0.6524 - val_loss: 0.6752 - val_acc: 0.7000\n",
      "Epoch 32/100\n",
      "420/420 [==============================] - 0s 270us/step - loss: 0.6724 - acc: 0.6548 - val_loss: 0.6738 - val_acc: 0.7222\n",
      "Epoch 33/100\n",
      "420/420 [==============================] - 0s 217us/step - loss: 0.6717 - acc: 0.6667 - val_loss: 0.6729 - val_acc: 0.7222\n",
      "Epoch 34/100\n",
      "420/420 [==============================] - 0s 263us/step - loss: 0.6708 - acc: 0.6762 - val_loss: 0.6715 - val_acc: 0.7333\n",
      "Epoch 35/100\n",
      "420/420 [==============================] - 0s 243us/step - loss: 0.6702 - acc: 0.6786 - val_loss: 0.6713 - val_acc: 0.7111\n",
      "Epoch 36/100\n",
      "420/420 [==============================] - 0s 237us/step - loss: 0.6693 - acc: 0.6738 - val_loss: 0.6704 - val_acc: 0.7222\n",
      "Epoch 37/100\n",
      "420/420 [==============================] - 0s 279us/step - loss: 0.6685 - acc: 0.6738 - val_loss: 0.6701 - val_acc: 0.6889\n",
      "Epoch 38/100\n",
      "420/420 [==============================] - 0s 264us/step - loss: 0.6676 - acc: 0.6619 - val_loss: 0.6689 - val_acc: 0.7000\n",
      "Epoch 39/100\n",
      "420/420 [==============================] - 0s 238us/step - loss: 0.6666 - acc: 0.6762 - val_loss: 0.6685 - val_acc: 0.6778\n",
      "Epoch 40/100\n",
      "420/420 [==============================] - 0s 233us/step - loss: 0.6657 - acc: 0.6810 - val_loss: 0.6689 - val_acc: 0.6444\n",
      "Epoch 41/100\n",
      "420/420 [==============================] - 0s 270us/step - loss: 0.6647 - acc: 0.6429 - val_loss: 0.6675 - val_acc: 0.6333\n",
      "Epoch 42/100\n",
      "420/420 [==============================] - 0s 285us/step - loss: 0.6637 - acc: 0.6619 - val_loss: 0.6651 - val_acc: 0.7000\n",
      "Epoch 43/100\n",
      "420/420 [==============================] - 0s 311us/step - loss: 0.6627 - acc: 0.7048 - val_loss: 0.6647 - val_acc: 0.6889\n",
      "Epoch 44/100\n",
      "420/420 [==============================] - 0s 223us/step - loss: 0.6617 - acc: 0.6833 - val_loss: 0.6624 - val_acc: 0.7444\n",
      "Epoch 45/100\n",
      "420/420 [==============================] - 0s 240us/step - loss: 0.6607 - acc: 0.7238 - val_loss: 0.6619 - val_acc: 0.7333\n",
      "Epoch 46/100\n",
      "420/420 [==============================] - 0s 326us/step - loss: 0.6595 - acc: 0.6976 - val_loss: 0.6595 - val_acc: 0.7556\n",
      "Epoch 47/100\n",
      "420/420 [==============================] - 0s 350us/step - loss: 0.6585 - acc: 0.7500 - val_loss: 0.6604 - val_acc: 0.7111\n",
      "Epoch 48/100\n",
      "420/420 [==============================] - 0s 305us/step - loss: 0.6575 - acc: 0.7095 - val_loss: 0.6597 - val_acc: 0.7000\n",
      "Epoch 49/100\n",
      "420/420 [==============================] - 0s 172us/step - loss: 0.6562 - acc: 0.7000 - val_loss: 0.6569 - val_acc: 0.7444\n",
      "Epoch 50/100\n",
      "420/420 [==============================] - 0s 294us/step - loss: 0.6551 - acc: 0.7214 - val_loss: 0.6565 - val_acc: 0.7333\n",
      "Epoch 51/100\n",
      "420/420 [==============================] - 0s 335us/step - loss: 0.6537 - acc: 0.7048 - val_loss: 0.6548 - val_acc: 0.7333\n",
      "Epoch 52/100\n",
      "420/420 [==============================] - 0s 295us/step - loss: 0.6524 - acc: 0.7262 - val_loss: 0.6521 - val_acc: 0.8000\n",
      "Epoch 53/100\n",
      "420/420 [==============================] - 0s 324us/step - loss: 0.6513 - acc: 0.7381 - val_loss: 0.6505 - val_acc: 0.8111\n",
      "Epoch 54/100\n",
      "420/420 [==============================] - 0s 262us/step - loss: 0.6498 - acc: 0.7524 - val_loss: 0.6474 - val_acc: 0.8444\n",
      "Epoch 55/100\n",
      "420/420 [==============================] - 0s 257us/step - loss: 0.6487 - acc: 0.7905 - val_loss: 0.6464 - val_acc: 0.8444\n",
      "Epoch 56/100\n",
      "420/420 [==============================] - 0s 225us/step - loss: 0.6472 - acc: 0.7976 - val_loss: 0.6453 - val_acc: 0.8444\n",
      "Epoch 57/100\n",
      "420/420 [==============================] - 0s 239us/step - loss: 0.6457 - acc: 0.7714 - val_loss: 0.6439 - val_acc: 0.8444\n",
      "Epoch 58/100\n",
      "420/420 [==============================] - 0s 163us/step - loss: 0.6441 - acc: 0.7857 - val_loss: 0.6417 - val_acc: 0.8444\n",
      "Epoch 59/100\n",
      "420/420 [==============================] - 0s 182us/step - loss: 0.6427 - acc: 0.7929 - val_loss: 0.6403 - val_acc: 0.8444\n",
      "Epoch 60/100\n",
      "420/420 [==============================] - 0s 195us/step - loss: 0.6410 - acc: 0.7976 - val_loss: 0.6390 - val_acc: 0.8444\n"
     ]
    },
    {
     "name": "stdout",
     "output_type": "stream",
     "text": [
      "Epoch 61/100\n",
      "420/420 [==============================] - 0s 209us/step - loss: 0.6394 - acc: 0.7857 - val_loss: 0.6374 - val_acc: 0.8444\n",
      "Epoch 62/100\n",
      "420/420 [==============================] - 0s 218us/step - loss: 0.6376 - acc: 0.7786 - val_loss: 0.6368 - val_acc: 0.8222\n",
      "Epoch 63/100\n",
      "420/420 [==============================] - 0s 207us/step - loss: 0.6360 - acc: 0.7762 - val_loss: 0.6358 - val_acc: 0.8222\n",
      "Epoch 64/100\n",
      "420/420 [==============================] - 0s 186us/step - loss: 0.6340 - acc: 0.7643 - val_loss: 0.6334 - val_acc: 0.8222\n",
      "Epoch 65/100\n",
      "420/420 [==============================] - 0s 220us/step - loss: 0.6320 - acc: 0.7786 - val_loss: 0.6335 - val_acc: 0.7889\n",
      "Epoch 66/100\n",
      "420/420 [==============================] - 0s 201us/step - loss: 0.6303 - acc: 0.7524 - val_loss: 0.6288 - val_acc: 0.8333\n",
      "Epoch 67/100\n",
      "420/420 [==============================] - 0s 228us/step - loss: 0.6282 - acc: 0.8024 - val_loss: 0.6271 - val_acc: 0.8333\n",
      "Epoch 68/100\n",
      "420/420 [==============================] - 0s 213us/step - loss: 0.6263 - acc: 0.7810 - val_loss: 0.6257 - val_acc: 0.8222\n",
      "Epoch 69/100\n",
      "420/420 [==============================] - 0s 161us/step - loss: 0.6236 - acc: 0.7929 - val_loss: 0.6203 - val_acc: 0.8667\n",
      "Epoch 70/100\n",
      "420/420 [==============================] - 0s 165us/step - loss: 0.6215 - acc: 0.8095 - val_loss: 0.6170 - val_acc: 0.8667\n",
      "Epoch 71/100\n",
      "420/420 [==============================] - 0s 158us/step - loss: 0.6193 - acc: 0.8048 - val_loss: 0.6149 - val_acc: 0.8667\n",
      "Epoch 72/100\n",
      "420/420 [==============================] - 0s 206us/step - loss: 0.6171 - acc: 0.8048 - val_loss: 0.6115 - val_acc: 0.8667\n",
      "Epoch 73/100\n",
      "420/420 [==============================] - 0s 167us/step - loss: 0.6146 - acc: 0.8095 - val_loss: 0.6101 - val_acc: 0.8667\n",
      "Epoch 74/100\n",
      "420/420 [==============================] - 0s 229us/step - loss: 0.6120 - acc: 0.8024 - val_loss: 0.6086 - val_acc: 0.8556\n",
      "Epoch 75/100\n",
      "420/420 [==============================] - 0s 158us/step - loss: 0.6090 - acc: 0.8095 - val_loss: 0.6043 - val_acc: 0.8667\n",
      "Epoch 76/100\n",
      "420/420 [==============================] - 0s 179us/step - loss: 0.6064 - acc: 0.8048 - val_loss: 0.6012 - val_acc: 0.8667\n",
      "Epoch 77/100\n",
      "420/420 [==============================] - 0s 132us/step - loss: 0.6037 - acc: 0.8000 - val_loss: 0.6009 - val_acc: 0.8444\n",
      "Epoch 78/100\n",
      "420/420 [==============================] - 0s 172us/step - loss: 0.6011 - acc: 0.8095 - val_loss: 0.5994 - val_acc: 0.8556\n",
      "Epoch 79/100\n",
      "420/420 [==============================] - 0s 177us/step - loss: 0.5986 - acc: 0.8119 - val_loss: 0.5973 - val_acc: 0.8556\n",
      "Epoch 80/100\n",
      "420/420 [==============================] - 0s 159us/step - loss: 0.5955 - acc: 0.8167 - val_loss: 0.5925 - val_acc: 0.8444\n",
      "Epoch 81/100\n",
      "420/420 [==============================] - 0s 213us/step - loss: 0.5922 - acc: 0.8143 - val_loss: 0.5886 - val_acc: 0.8444\n",
      "Epoch 82/100\n",
      "420/420 [==============================] - 0s 142us/step - loss: 0.5893 - acc: 0.8143 - val_loss: 0.5847 - val_acc: 0.8556\n",
      "Epoch 83/100\n",
      "420/420 [==============================] - 0s 139us/step - loss: 0.5860 - acc: 0.8095 - val_loss: 0.5790 - val_acc: 0.8667\n",
      "Epoch 84/100\n",
      "420/420 [==============================] - 0s 222us/step - loss: 0.5831 - acc: 0.8119 - val_loss: 0.5769 - val_acc: 0.8667\n",
      "Epoch 85/100\n",
      "420/420 [==============================] - 0s 185us/step - loss: 0.5796 - acc: 0.8143 - val_loss: 0.5751 - val_acc: 0.8444\n",
      "Epoch 86/100\n",
      "420/420 [==============================] - 0s 193us/step - loss: 0.5767 - acc: 0.8190 - val_loss: 0.5718 - val_acc: 0.8444\n",
      "Epoch 87/100\n",
      "420/420 [==============================] - 0s 198us/step - loss: 0.5738 - acc: 0.8071 - val_loss: 0.5694 - val_acc: 0.8556\n",
      "Epoch 88/100\n",
      "420/420 [==============================] - 0s 196us/step - loss: 0.5697 - acc: 0.8095 - val_loss: 0.5683 - val_acc: 0.8556\n",
      "Epoch 89/100\n",
      "420/420 [==============================] - 0s 223us/step - loss: 0.5663 - acc: 0.8286 - val_loss: 0.5618 - val_acc: 0.8556\n",
      "Epoch 90/100\n",
      "420/420 [==============================] - 0s 217us/step - loss: 0.5625 - acc: 0.8143 - val_loss: 0.5548 - val_acc: 0.8667\n",
      "Epoch 91/100\n",
      "420/420 [==============================] - 0s 205us/step - loss: 0.5587 - acc: 0.8048 - val_loss: 0.5488 - val_acc: 0.9000\n",
      "Epoch 92/100\n",
      "420/420 [==============================] - 0s 209us/step - loss: 0.5552 - acc: 0.8095 - val_loss: 0.5444 - val_acc: 0.9000\n",
      "Epoch 93/100\n",
      "420/420 [==============================] - 0s 229us/step - loss: 0.5516 - acc: 0.8167 - val_loss: 0.5419 - val_acc: 0.8889\n",
      "Epoch 94/100\n",
      "420/420 [==============================] - 0s 200us/step - loss: 0.5473 - acc: 0.8095 - val_loss: 0.5409 - val_acc: 0.8444\n",
      "Epoch 95/100\n",
      "420/420 [==============================] - 0s 172us/step - loss: 0.5440 - acc: 0.8119 - val_loss: 0.5366 - val_acc: 0.8444\n",
      "Epoch 96/100\n",
      "420/420 [==============================] - 0s 237us/step - loss: 0.5395 - acc: 0.8167 - val_loss: 0.5315 - val_acc: 0.8556\n",
      "Epoch 97/100\n",
      "420/420 [==============================] - 0s 182us/step - loss: 0.5357 - acc: 0.8119 - val_loss: 0.5285 - val_acc: 0.8556\n",
      "Epoch 98/100\n",
      "420/420 [==============================] - 0s 236us/step - loss: 0.5315 - acc: 0.8167 - val_loss: 0.5244 - val_acc: 0.8556\n",
      "Epoch 99/100\n",
      "420/420 [==============================] - 0s 229us/step - loss: 0.5275 - acc: 0.8119 - val_loss: 0.5184 - val_acc: 0.8556\n",
      "Epoch 100/100\n",
      "420/420 [==============================] - 0s 245us/step - loss: 0.5236 - acc: 0.8167 - val_loss: 0.5192 - val_acc: 0.8556\n"
     ]
    }
   ],
   "source": [
    "hist = model.fit(X_train, Y_train,          batch_size=32, epochs=100,          validation_data=(X_val, Y_val))"
   ]
  },
  {
   "cell_type": "code",
   "execution_count": 48,
   "metadata": {},
   "outputs": [
    {
     "name": "stdout",
     "output_type": "stream",
     "text": [
      "90/90 [==============================] - 0s 221us/step\n"
     ]
    },
    {
     "data": {
      "text/plain": [
       "0.7444444484180874"
      ]
     },
     "execution_count": 48,
     "metadata": {},
     "output_type": "execute_result"
    }
   ],
   "source": [
    "model.evaluate(X_test, Y_test)[1]"
   ]
  },
  {
   "cell_type": "code",
   "execution_count": 41,
   "metadata": {},
   "outputs": [],
   "source": [
    "import matplotlib.pyplot as plt"
   ]
  },
  {
   "cell_type": "code",
   "execution_count": 44,
   "metadata": {},
   "outputs": [
    {
     "data": {
      "image/png": "[encoded data removed]",
      "text/plain": [
       "<Figure size 432x288 with 1 Axes>"
      ]
     },
     "metadata": {},
     "output_type": "display_data"
    }
   ],
   "source": [
    "plt.plot(hist.history['loss'])\n",
    "plt.plot(hist.history['val_loss'])\n",
    "plt.title('Model loss')\n",
    "plt.ylabel('Loss')\n",
    "plt.xlabel('Epoch')\n",
    "plt.legend(['Train', 'Val'], loc='upper right')\n",
    "plt.show()"
   ]
  },
  {
   "cell_type": "code",
   "execution_count": 45,
   "metadata": {},
   "outputs": [
    {
     "data": {
      "image/png": "[encoded data removed]",
      "text/plain": [
       "<Figure size 432x288 with 1 Axes>"
      ]
     },
     "metadata": {},
     "output_type": "display_data"
    }
   ],
   "source": [
    "plt.plot(hist.history['acc'])\n",
    "plt.plot(hist.history['val_acc'])\n",
    "plt.title('Model accuracy')\n",
    "plt.ylabel('Accuracy')\n",
    "plt.xlabel('Epoch')\n",
    "plt.legend(['Train', 'Val'], loc='lower right')\n",
    "plt.show()"
   ]
  },
  {
   "cell_type": "code",
   "execution_count": null,
   "metadata": {},
   "outputs": [],
   "source": []
  }
 ],
 "metadata": {
  "kernelspec": {
   "display_name": "Python 3",
   "language": "python",
   "name": "python3"
  },
  "language_info": {
   "codemirror_mode": {
    "name": "ipython",
    "version": 3
   },
   "file_extension": ".py",
   "mimetype": "text/x-python",
   "name": "python",
   "nbconvert_exporter": "python",
   "pygments_lexer": "ipython3",
   "version": "3.6.5"
  }
 },
 "nbformat": 4,
 "nbformat_minor": 2
}
