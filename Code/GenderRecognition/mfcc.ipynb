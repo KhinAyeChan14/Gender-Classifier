{
 "cells": [
  {
   "cell_type": "code",
   "execution_count": 1,
   "metadata": {},
   "outputs": [],
   "source": [
    "import numpy as np\n",
    "import matplotlib.pyplot as plt\n",
    "from scipy.io import wavfile\n",
    "from python_speech_features import mfcc"
   ]
  },
  {
   "cell_type": "code",
   "execution_count": 2,
   "metadata": {},
   "outputs": [],
   "source": [
    "def compute_mfcc(audio_data, sample_rate):\n",
    "    ''' Computes the mel-frequency cepstral coefficients.\n",
    "    The audio time series is normalised and its mfcc features are computed.\n",
    "    Args:\n",
    "        audio_data: time series of the speech utterance.\n",
    "        sample_rate: sampling rate.\n",
    "    Returns:\n",
    "        mfcc_feat:[num_frames x F] matrix representing the mfcc.\n",
    "    '''\n",
    "\n",
    "    audio_data = audio_data - np.mean(audio_data)\n",
    "    audio_data = audio_data / np.max(audio_data)\n",
    "    mfcc_feat = mfcc(audio_data, sample_rate, winlen=0.025, winstep=0.02,\n",
    "                     numcep=12, nfilt=26, nfft=2048, lowfreq=0, highfreq=None,\n",
    "                     preemph=0.97, ceplifter=22, appendEnergy=True)\n",
    "    \n",
    "    return mfcc_feat"
   ]
  },
  {
   "cell_type": "code",
   "execution_count": null,
   "metadata": {},
   "outputs": [],
   "source": []
  }
 ],
 "metadata": {
  "kernelspec": {
   "display_name": "Python 3",
   "language": "python",
   "name": "python3"
  },
  "language_info": {
   "codemirror_mode": {
    "name": "ipython",
    "version": 3
   },
   "file_extension": ".py",
   "mimetype": "text/x-python",
   "name": "python",
   "nbconvert_exporter": "python",
   "pygments_lexer": "ipython3",
   "version": "3.6.5"
  }
 },
 "nbformat": 4,
 "nbformat_minor": 2
}
